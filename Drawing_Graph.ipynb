{
 "cells": [
  {
   "cell_type": "code",
   "execution_count": 1,
   "metadata": {
    "pycharm": {
     "is_executing": false
    }
   },
   "outputs": [],
   "source": [
    "import os.path\n",
    "import pickle\n",
    "import plotly.graph_objects as go\n",
    "import networkx as nx\n",
    "from Graph import Graph"
   ]
  },
  {
   "cell_type": "code",
   "execution_count": null,
   "metadata": {
    "pycharm": {
     "is_executing": true
    }
   },
   "outputs": [],
   "source": [
    "curr_dir = os.getcwd()\n",
    "data_path = os.path.join(curr_dir, 'Data')\n",
    "\n",
    "G = pickle.load(open(os.path.join(data_path, 'graph.p'), \"rb\"))\n",
    "\n",
    "web = nx.DiGraph()\n",
    "for k in G.graph.keys():\n",
    "    [web.add_edge(parent, k) for parent in G.graph[k][1]]\n",
    "\n",
    "nx.draw(web, with_labels=True, node_size=1500, alpha=0.3, arrows=True)"
   ]
  },
  {
   "cell_type": "code",
   "execution_count": null,
   "metadata": {},
   "outputs": [],
   "source": []
  }
 ],
 "metadata": {
  "kernelspec": {
   "display_name": "Python 3",
   "language": "python",
   "name": "python3"
  },
  "language_info": {
   "codemirror_mode": {
    "name": "ipython",
    "version": 3
   },
   "file_extension": ".py",
   "mimetype": "text/x-python",
   "name": "python",
   "nbconvert_exporter": "python",
   "pygments_lexer": "ipython3",
   "version": "3.7.4"
  }
 },
 "nbformat": 4,
 "nbformat_minor": 2
}